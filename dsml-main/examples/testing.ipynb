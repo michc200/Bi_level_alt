{
 "cells": [
  {
   "cell_type": "code",
   "execution_count": null,
   "metadata": {},
   "outputs": [],
   "source": [
    "from robusttest.core.grid_time_series import GridTimeSeries as grid_ts\n",
    "import warnings\n",
    "import numpy as np\n",
    "import pandas as pd\n",
    "\n",
    "import plotly.graph_objects as go\n",
    "warnings.filterwarnings(\"ignore\")\n",
    "\n",
    "%load_ext autoreload\n",
    "%autoreload 2"
   ]
  },
  {
   "cell_type": "code",
   "execution_count": null,
   "metadata": {},
   "outputs": [],
   "source": [
    "import pandapower as pp \n",
    "import simbench as sb"
   ]
  },
  {
   "cell_type": "code",
   "execution_count": null,
   "metadata": {},
   "outputs": [],
   "source": [
    "single_zone_codes = sb.collect_all_simbench_codes(lv_level=\"\", all_data=False)"
   ]
  },
  {
   "cell_type": "code",
   "execution_count": null,
   "metadata": {},
   "outputs": [],
   "source": [
    "single_zone_codes"
   ]
  },
  {
   "cell_type": "code",
   "execution_count": null,
   "metadata": {},
   "outputs": [],
   "source": [
    "grid = grid_ts('1-LV-rural1--0-sw', save_path='LV/1-LV-rural1--0-sw')"
   ]
  },
  {
   "cell_type": "code",
   "execution_count": null,
   "metadata": {},
   "outputs": [],
   "source": [
    "pp.plotting.simple_plot(grid.net, respect_switches=True, bus_size=0.1)"
   ]
  },
  {
   "cell_type": "code",
   "execution_count": null,
   "metadata": {},
   "outputs": [],
   "source": [
    "grid.plot()"
   ]
  },
  {
   "cell_type": "code",
   "execution_count": null,
   "metadata": {},
   "outputs": [],
   "source": [
    "for sb_grid_code in single_zone_codes:\n",
    "    grid = grid_ts(sb_grid_code=sb_grid_code)\n",
    "    pp.plotting.simple_plot(grid.net, respect_switches=True, bus_size=0.1)"
   ]
  },
  {
   "cell_type": "code",
   "execution_count": null,
   "metadata": {},
   "outputs": [],
   "source": [
    "variables = [(\"sgen\", \"p_mw\"), (\"load\", \"p_mw\"), (\"load\", \"q_mvar\")]\n",
    "grid.set_variables(variables=variables)"
   ]
  },
  {
   "cell_type": "code",
   "execution_count": null,
   "metadata": {},
   "outputs": [],
   "source": [
    "grid.run_timeseries(variables)"
   ]
  },
  {
   "cell_type": "code",
   "execution_count": null,
   "metadata": {},
   "outputs": [],
   "source": [
    "grid.create_ts()"
   ]
  },
  {
   "cell_type": "code",
   "execution_count": null,
   "metadata": {},
   "outputs": [],
   "source": [
    "grid.values_line_ts_df.head()"
   ]
  },
  {
   "cell_type": "code",
   "execution_count": null,
   "metadata": {},
   "outputs": [],
   "source": [
    "grid.create_measurements_ts()\n",
    "grid.measurements_bus_ts_df.head()"
   ]
  },
  {
   "cell_type": "code",
   "execution_count": null,
   "metadata": {},
   "outputs": [],
   "source": [
    "grid.measurements_line_ts_df.head()"
   ]
  },
  {
   "cell_type": "code",
   "execution_count": null,
   "metadata": {},
   "outputs": [],
   "source": [
    "data_list, x_set_mean, x_set_std, edge_attr_set_mean, edge_attr_set_std = grid.create_pyg_data()"
   ]
  },
  {
   "cell_type": "code",
   "execution_count": null,
   "metadata": {},
   "outputs": [],
   "source": [
    "import robusttest.interface.generate_LV_TS as glv\n",
    "glv.generate_LV_TS()"
   ]
  },
  {
   "cell_type": "code",
   "execution_count": null,
   "metadata": {},
   "outputs": [],
   "source": [
    "split_coef = 0.9\n",
    "train_dataset = data_list[0:int(split_coef*len(data_list))]\n",
    "test_dataset = data_list[int(split_coef*len(data_list)):]"
   ]
  },
  {
   "cell_type": "code",
   "execution_count": null,
   "metadata": {},
   "outputs": [],
   "source": [
    "from torch_geometric.loader import DataLoader\n",
    "\n",
    "train_loader = DataLoader(train_dataset, batch_size=64, shuffle=True)\n",
    "test_loader = DataLoader(test_dataset, batch_size=64, shuffle=False)"
   ]
  },
  {
   "cell_type": "code",
   "execution_count": null,
   "metadata": {},
   "outputs": [],
   "source": [
    "from robusttest.core.SE.gat_dsse import GAT_DSSE_Lightning\n",
    "mu_v = 1e-1\n",
    "reg_coefs = {\n",
    "'mu_v': mu_v,\n",
    "'mu_theta': mu_v,\n",
    "'lam_v': 1e-4,\n",
    "'lam_p': 1e-8,\n",
    "'lam_pf': 1e-6,\n",
    "'lam_reg': 1e2\n",
    "}\n",
    "\n",
    "hyperparameters = {\n",
    "    'dim_nodes': 8,    # Example value\n",
    "    'dim_lines': 6,\n",
    "    'dim_out': 2,\n",
    "    'dim_hid': 32,\n",
    "    'gnn_layers': 8,\n",
    "    'heads': 1,\n",
    "    'K': 2,\n",
    "    'dropout_rate': 0.3,\n",
    "    'L': 5\n",
    "}\n",
    "\n",
    "model = GAT_DSSE_Lightning(hyperparameters, x_set_mean, x_set_std, edge_attr_set_mean, edge_attr_set_std, reg_coefs)"
   ]
  },
  {
   "cell_type": "code",
   "execution_count": null,
   "metadata": {},
   "outputs": [],
   "source": [
    "from pytorch_lightning import Trainer\n",
    "import torch\n",
    "\n",
    "\n",
    "# Training with the Trainer\n",
    "trainer = Trainer(max_epochs=50)\n",
    "trainer.fit(model, train_loader)"
   ]
  },
  {
   "cell_type": "code",
   "execution_count": null,
   "metadata": {},
   "outputs": [],
   "source": [
    "from robusttest.core.SE.gnn import GNN_SE"
   ]
  },
  {
   "cell_type": "code",
   "execution_count": null,
   "metadata": {},
   "outputs": [],
   "source": [
    "gnn_se = GNN_SE(method='GNN', grid= grid)"
   ]
  },
  {
   "cell_type": "code",
   "execution_count": null,
   "metadata": {},
   "outputs": [],
   "source": [
    "gnn_se.prepare_measurments()"
   ]
  },
  {
   "cell_type": "code",
   "execution_count": null,
   "metadata": {},
   "outputs": [],
   "source": [
    "gnn_se.train()"
   ]
  },
  {
   "cell_type": "code",
   "execution_count": null,
   "metadata": {},
   "outputs": [],
   "source": [
    "preds = gnn_se.predict(test= 15)"
   ]
  },
  {
   "cell_type": "code",
   "execution_count": null,
   "metadata": {},
   "outputs": [],
   "source": [
    "len(preds[0])"
   ]
  },
  {
   "cell_type": "code",
   "execution_count": null,
   "metadata": {},
   "outputs": [],
   "source": [
    "np.array(preds[0]).reshape(1,-1)[0]"
   ]
  },
  {
   "cell_type": "code",
   "execution_count": null,
   "metadata": {},
   "outputs": [],
   "source": [
    "i = 0 \n",
    "for idx, row in grid.results_ts_df.tail(50).iterrows():\n",
    "    fig = go.Figure()\n",
    "    fig.add_trace(go.Scatter(x= np.arange(59), y= row.values[:59], name= 'Truth'))\n",
    "    fig.add_trace(go.Scatter(x= np.arange(59), y= np.array(preds[i]).reshape(1,-1)[0], name= 'est'))\n",
    "    # fig.add_trace(go.Scatter(x= np.arange(59), y= pp_wls_se.results_df.values[idx], name= 'est'))\n",
    "    fig.show()\n",
    "    i += 1"
   ]
  }
 ],
 "metadata": {
  "kernelspec": {
   "display_name": "pyenv",
   "language": "python",
   "name": "python3"
  },
  "language_info": {
   "codemirror_mode": {
    "name": "ipython",
    "version": 3
   },
   "file_extension": ".py",
   "mimetype": "text/x-python",
   "name": "python",
   "nbconvert_exporter": "python",
   "pygments_lexer": "ipython3",
   "version": "3.10.6"
  }
 },
 "nbformat": 4,
 "nbformat_minor": 2
}
